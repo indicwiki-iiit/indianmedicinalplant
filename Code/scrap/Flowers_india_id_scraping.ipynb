{
 "cells": [
  {
   "cell_type": "code",
   "execution_count": 1,
   "id": "d255b44d",
   "metadata": {},
   "outputs": [
    {
     "name": "stderr",
     "output_type": "stream",
     "text": [
      "C:\\Users\\Suraj\\AppData\\Local\\Temp/ipykernel_18764/2118644709.py:10: DeprecationWarning: executable_path has been deprecated, please pass in a Service object\n",
      "  driver = webdriver.Chrome(executable_path=\"C:/Users/Suraj/Desktop/IIIT/Wiki/chromedriver_win32/chromedriver.exe\")\n"
     ]
    }
   ],
   "source": [
    "import os\n",
    "import re\n",
    "import selenium\n",
    "import time\n",
    "from selenium import webdriver\n",
    "import warnings\n",
    "from selenium.webdriver.common.by import By\n",
    "from selenium.webdriver.common.keys import Keys\n",
    "\n",
    "driver = webdriver.Chrome(executable_path=\"C:/Users/Suraj/Desktop/IIIT/Wiki/chromedriver_win32/chromedriver.exe\")"
   ]
  },
  {
   "cell_type": "code",
   "execution_count": 2,
   "id": "460a3804",
   "metadata": {},
   "outputs": [],
   "source": [
    "import json\n",
    "wikiplant = {}\n",
    "# Opening JSON file\n",
    "with open('wikiplant_v3.json') as json_file:\n",
    "    wikiplant = json.load(json_file)"
   ]
  },
  {
   "cell_type": "code",
   "execution_count": 3,
   "id": "ac5e04a3",
   "metadata": {},
   "outputs": [],
   "source": [
    "key = '246191'\n",
    "wiki_ind = wikiplant[key]\n",
    "flower_name = wiki_ind['Flowers of India ID']\n",
    "#print(flower_name)\n",
    "url_string = ''\n",
    "for word in flower_name.split():\n",
    "    url_string = url_string + '%20' + word\n",
    "\n",
    "url_string = url_string.strip('%20')\n",
    "flower_url = 'https://www.flowersofindia.net/catalog/slides/' + url_string + '.html'\n",
    "\n",
    "def get_flower_attributes(wikiplant,flower_url):\n",
    "    driver.get(flower_url)\n",
    "    time.sleep(2)\n",
    "    wikiplant[key]['Flower_Family'] = driver.find_element_by_xpath('/html/body/table/tbody/tr[3]/td/div[1]').text\n",
    "\n",
    "    flower_descr = driver.find_element_by_xpath('/html/body/table/tbody/tr[3]/td/div[2]')\n",
    "    wikiplant[key]['Flower_descr'] = flower_descr.text\n",
    "    #print(flower_descr.text)\n",
    "\n",
    "    medicinal_use = driver.find_element_by_xpath('/html/body/table/tbody/tr[3]/td/div[3]')\n",
    "    wikiplant[key]['flower_medicinal_use'] = medicinal_use.text\n",
    "    #print(medicinal_use.text)\n",
    "\n",
    "    maintext = driver.find_element_by_xpath('//*[@id=\"maintext\"]')\n",
    "    page_text = maintext.text\n",
    "\n",
    "    for line in page_text.split('\\n'):\n",
    "        if line.startswith('Common name'):\n",
    "            wikiplant[key]['Flower_Common_names'] = line\n",
    "            #print('Common Name:', line)\n",
    "    return wikiplant\n"
   ]
  },
  {
   "cell_type": "code",
   "execution_count": 4,
   "id": "3ccf7356",
   "metadata": {},
   "outputs": [
    {
     "name": "stdout",
     "output_type": "stream",
     "text": [
      "Processed  100\n",
      "Processed  200\n",
      "Processed  300\n",
      "Processed  400\n",
      "Processed  500\n",
      "Processed  600\n",
      "Processed  700\n",
      "Processed  800\n",
      "Processed  900\n",
      "Processed  1000\n",
      "Processed  1100\n",
      "Processed  1200\n",
      "Processed  1300\n",
      "Processed  1400\n",
      "Processed  1500\n",
      "Processed  1600\n",
      "Processed  1700\n",
      "Processed  1800\n",
      "Processed  1900\n",
      "Processed  2000\n",
      "Processed  2100\n",
      "Processed  2200\n",
      "Processed  2300\n",
      "Processed  2400\n",
      "Processed  2500\n",
      "Processed  2600\n",
      "Processed  2700\n",
      "Processed  2800\n",
      "Processed  2900\n",
      "Processed  3000\n",
      "Processed  3100\n",
      "Processed  3200\n"
     ]
    }
   ],
   "source": [
    "warnings.filterwarnings(\"ignore\") \n",
    "count = 0\n",
    "for key in wikiplant.keys():\n",
    "    count = count+1\n",
    "    if count%100==0:\n",
    "        print('Processed ', count)\n",
    "    wiki_ind = wikiplant[key]\n",
    "    try:\n",
    "        flower_name = wiki_ind['Flowers of India ID']\n",
    "        url_string = ''\n",
    "        for word in flower_name.split():\n",
    "            url_string = url_string + '%20' + word\n",
    "\n",
    "        url_string = url_string.strip('%20')\n",
    "        flower_url = 'https://www.flowersofindia.net/catalog/slides/' + url_string + '.html'\n",
    "        #print(url)\n",
    "        wikiplant = get_flower_attributes(wikiplant,flower_url)\n",
    "    except:\n",
    "        continue\n",
    "        #print(key)\n"
   ]
  },
  {
   "cell_type": "code",
   "execution_count": 5,
   "id": "d459d58c",
   "metadata": {},
   "outputs": [],
   "source": [
    "import json\n",
    "\n",
    "# Serialize data into file:\n",
    "json.dump( wikiplant, open( \"wikiplant_v4.json\", 'w' ) )"
   ]
  },
  {
   "cell_type": "code",
   "execution_count": 9,
   "id": "5130f370",
   "metadata": {},
   "outputs": [],
   "source": [
    "import pandas as pd\n",
    "import numpy as np\n",
    "\n",
    "df_new = pd.DataFrame(data=wikiplant)\n",
    "df_new = (df_new.T)\n",
    "df_new = df_new.replace(r'^\\s*$', np.nan, regex=True)\n",
    "#print (df)\n",
    "#df.to_excel('wikiplant.xlsx')\n",
    "\n",
    "\n",
    "for col in df_new.columns:\n",
    "    #print(col , ':' , df[col].isna().sum())\n",
    "    if df_new[col].isna().sum() >= 3000:\n",
    "        df_new.drop(col, inplace=True, axis=1)\n",
    "        \n",
    "df_new.to_excel('wikiplant_v4.xlsx')"
   ]
  },
  {
   "cell_type": "code",
   "execution_count": 7,
   "id": "69db5bf6",
   "metadata": {},
   "outputs": [
    {
     "data": {
      "text/plain": [
       "'Medicinal uses: The plant is good in chronic fevers. Roots are given in jaundice, cough, bronchitis, asthma and pertussis. Leaves are applied on swellings. The root extract is taken both by Marma and Tanchangya for the relief of stomach pain.'"
      ]
     },
     "execution_count": 7,
     "metadata": {},
     "output_type": "execute_result"
    }
   ],
   "source": [
    "key = '246191'\n",
    "wiki_ind = wikiplant[key]\n",
    "flower_name = wiki_ind['flower_medicinal_use']\n",
    "flower_name"
   ]
  }
 ],
 "metadata": {
  "kernelspec": {
   "display_name": "Python 3 (ipykernel)",
   "language": "python",
   "name": "python3"
  },
  "language_info": {
   "codemirror_mode": {
    "name": "ipython",
    "version": 3
   },
   "file_extension": ".py",
   "mimetype": "text/x-python",
   "name": "python",
   "nbconvert_exporter": "python",
   "pygments_lexer": "ipython3",
   "version": "3.9.7"
  }
 },
 "nbformat": 4,
 "nbformat_minor": 5
}
