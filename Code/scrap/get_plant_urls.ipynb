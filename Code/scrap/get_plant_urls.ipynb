import os
import re

os.chdir('C:\\Users\\Suraj\\Desktop\\IIIT\\Wiki')
bio = open('Webpage_element_text.txt','r')
bio_text= bio.read()
print(bio_text)

regex = 'href="/group/medicinal_plants/species/show/(.*?)">'
plant_number_list = re.findall(regex,bio_text)
print(len(plant_number_list))

plant_url = open('plant_url.txt','w') 
for p in plant_number_list:
    url = 'https://indiabiodiversity.org/group/medicinal_plants/species/show/' + p + '\n'
    plant_url.writelines(url)
plant_url.close()
