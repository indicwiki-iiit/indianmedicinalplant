{
 "cells": [
  {
   "cell_type": "code",
   "execution_count": 5,
   "id": "e228958a",
   "metadata": {},
   "outputs": [
    {
     "name": "stderr",
     "output_type": "stream",
     "text": [
      "C:\\Users\\Suraj\\AppData\\Local\\Temp/ipykernel_60240/4254842518.py:12: DeprecationWarning: executable_path has been deprecated, please pass in a Service object\n",
      "  driver = webdriver.Chrome(executable_path=\"C:/Users/Suraj/Desktop/IIIT/Wiki/chromedriver_win32/chromedriver.exe\")\n"
     ]
    }
   ],
   "source": [
    "import pandas as pd\n",
    "import os\n",
    "import os\n",
    "import re\n",
    "import selenium\n",
    "import time\n",
    "from selenium import webdriver\n",
    "import warnings\n",
    "from selenium.webdriver.common.by import By\n",
    "from selenium.webdriver.common.keys import Keys\n",
    "\n",
    "driver = webdriver.Chrome(executable_path=\"C:/Users/Suraj/Desktop/IIIT/Wiki/chromedriver_win32/chromedriver.exe\")\n",
    "os.chdir('C:\\\\Users\\\\Suraj\\\\Desktop\\\\IIIT\\\\Wiki')\n",
    "wikiplant = pd.read_excel('wikiplant_final.xlsx')"
   ]
  },
  {
   "cell_type": "code",
   "execution_count": 6,
   "id": "41dc37c6",
   "metadata": {},
   "outputs": [
    {
     "data": {
      "text/plain": [
       "0             Eranthemum roseum\n",
       "1             Coix lacryma-jobi\n",
       "2       Holoptelea integrifolia\n",
       "3                  Bombax ceiba\n",
       "4         Asclepias curassavica\n",
       "                 ...           \n",
       "3285             acacia pennata\n",
       "3286           abutilon indicum\n",
       "3287        elephantopus scaber\n",
       "3288          sonchus oleraceus\n",
       "3289          mentha sylvestris\n",
       "Name: Name, Length: 3290, dtype: object"
      ]
     },
     "execution_count": 6,
     "metadata": {},
     "output_type": "execute_result"
    }
   ],
   "source": [
    "plant_name = wikiplant['Name']\n",
    "plant_name"
   ]
  },
  {
   "cell_type": "code",
   "execution_count": 9,
   "id": "5bf0af79",
   "metadata": {},
   "outputs": [
    {
     "name": "stdout",
     "output_type": "stream",
     "text": [
      "https://en.wikipedia.org/wiki/acacia_pennata\n",
      "Senegalia pennata (English: climbing wattle, Vietnamese: rau thối, Thai: ชะอม cha-om, Burmese: ဆူးပုပ်, pronounced [sʰúboʊʔ]; Khmer: ស្អំ; Meiteilon : khang, Thadou-Kuki: khang-khu, Mizo: khanghu, Hmar: khanghmuk, Biate: khang-hu, Malay: petai duri), is a species of plant which is native to South and Southeast Asia. It is a shrub or small tropical tree which grows up to 5 metres (16 ft) in height. Its leaves are bipinnate with linear-oblong and glabrous pinnules. Its yellowish flowers are terminal panicles with globose heads. The pods are thin, flat and long with thick sutures.[1]\n"
     ]
    },
    {
     "name": "stderr",
     "output_type": "stream",
     "text": [
      "C:\\Users\\Suraj\\AppData\\Local\\Temp/ipykernel_60240/3790833294.py:7: DeprecationWarning: find_element_by_* commands are deprecated. Please use find_element() instead\n",
      "  plant_intro = driver.find_element_by_xpath('/html/body/div[3]/div[3]/div[5]/div[1]/p[2]').text\n"
     ]
    }
   ],
   "source": [
    "plant_name = \"acacia pennata\"\n",
    "plant_name = plant_name.replace(' ','_')\n",
    "wiki_url = \"https://en.wikipedia.org/wiki/\" + plant_name\n",
    "print(wiki_url)\n",
    "driver.get(wiki_url)\n",
    "time.sleep(2)\n",
    "plant_intro = driver.find_element_by_xpath('/html/body/div[3]/div[3]/div[5]/div[1]/p[2]').text\n"
   ]
  },
  {
   "cell_type": "code",
   "execution_count": 10,
   "id": "ad9f9ce8",
   "metadata": {},
   "outputs": [
    {
     "name": "stderr",
     "output_type": "stream",
     "text": [
      "C:\\Users\\Suraj\\AppData\\Local\\Temp/ipykernel_60240/1590402873.py:13: DeprecationWarning: find_element_by_* commands are deprecated. Please use find_element() instead\n",
      "  plant_intro = driver.find_element_by_xpath('/html/body/div[3]/div[3]/div[5]/div[1]/p[2]').text\n",
      "C:\\Users\\Suraj\\AppData\\Local\\Temp/ipykernel_60240/1590402873.py:14: SettingWithCopyWarning: \n",
      "A value is trying to be set on a copy of a slice from a DataFrame\n",
      "\n",
      "See the caveats in the documentation: https://pandas.pydata.org/pandas-docs/stable/user_guide/indexing.html#returning-a-view-versus-a-copy\n",
      "  wikiplant['intro'][key] = plant_intro\n"
     ]
    },
    {
     "name": "stdout",
     "output_type": "stream",
     "text": [
      "Processed  100\n",
      "Processed  200\n",
      "Processed  300\n",
      "Processed  400\n",
      "Processed  500\n",
      "Processed  600\n",
      "Processed  700\n",
      "Processed  800\n",
      "Processed  900\n",
      "Processed  1000\n",
      "Processed  1100\n",
      "Processed  1200\n",
      "Processed  1300\n",
      "Processed  1400\n",
      "Processed  1500\n",
      "Processed  1600\n",
      "Processed  1700\n",
      "Processed  1800\n",
      "Processed  1900\n",
      "Processed  2000\n",
      "Processed  2100\n",
      "Processed  2200\n",
      "Processed  2300\n",
      "Processed  2400\n",
      "Processed  2500\n",
      "Processed  2600\n",
      "Processed  2700\n",
      "Processed  2800\n",
      "Processed  2900\n",
      "Processed  3000\n",
      "Processed  3100\n",
      "Processed  3200\n"
     ]
    }
   ],
   "source": [
    "count = 0\n",
    "wikiplant['intro'] = ''\n",
    "for key in range(len(wikiplant['Name'])):\n",
    "    count = count+1\n",
    "    if count%100==0:\n",
    "        print('Processed ', count)\n",
    "    plant_name = wikiplant['Name'][key]\n",
    "    plant_name = plant_name.replace(' ','_')\n",
    "    try:\n",
    "        wiki_url = \"https://en.wikipedia.org/wiki/\" + plant_name\n",
    "        driver.get(wiki_url)\n",
    "        time.sleep(2)\n",
    "        plant_intro = driver.find_element_by_xpath('/html/body/div[3]/div[3]/div[5]/div[1]/p[2]').text\n",
    "        wikiplant['intro'][key] = plant_intro\n",
    "    \n",
    "            \n",
    "    except:\n",
    "        continue\n"
   ]
  },
  {
   "cell_type": "code",
   "execution_count": 11,
   "id": "2253388d",
   "metadata": {},
   "outputs": [],
   "source": [
    "wikiplant.to_excel('wikiplant_final.xlsx')"
   ]
  }
 ],
 "metadata": {
  "kernelspec": {
   "display_name": "Python 3 (ipykernel)",
   "language": "python",
   "name": "python3"
  },
  "language_info": {
   "codemirror_mode": {
    "name": "ipython",
    "version": 3
   },
   "file_extension": ".py",
   "mimetype": "text/x-python",
   "name": "python",
   "nbconvert_exporter": "python",
   "pygments_lexer": "ipython3",
   "version": "3.9.7"
  }
 },
 "nbformat": 4,
 "nbformat_minor": 5
}
