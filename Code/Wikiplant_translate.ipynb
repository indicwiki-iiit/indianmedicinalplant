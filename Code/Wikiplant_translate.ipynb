{
  "nbformat": 4,
  "nbformat_minor": 0,
  "metadata": {
    "colab": {
      "name": "Wikiplant_translate.ipynb",
      "provenance": [],
      "collapsed_sections": []
    },
    "kernelspec": {
      "name": "python3",
      "display_name": "Python 3"
    },
    "language_info": {
      "name": "python"
    }
  },
  "cells": [
    {
      "cell_type": "code",
      "execution_count": null,
      "metadata": {
        "colab": {
          "base_uri": "https://localhost:8080/"
        },
        "id": "jA2RISN1BHbB",
        "outputId": "507ef215-e641-4c7b-d6e1-9176201ec13f"
      },
      "outputs": [
        {
          "output_type": "stream",
          "name": "stdout",
          "text": [
            "Looking in indexes: https://pypi.org/simple, https://us-python.pkg.dev/colab-wheels/public/simple/\n",
            "Collecting googletrans==3.1.0a0\n",
            "  Downloading googletrans-3.1.0a0.tar.gz (19 kB)\n",
            "Collecting httpx==0.13.3\n",
            "  Downloading httpx-0.13.3-py3-none-any.whl (55 kB)\n",
            "\u001b[K     |████████████████████████████████| 55 kB 4.7 MB/s \n",
            "\u001b[?25hRequirement already satisfied: certifi in /usr/local/lib/python3.7/dist-packages (from httpx==0.13.3->googletrans==3.1.0a0) (2022.6.15)\n",
            "Collecting httpcore==0.9.*\n",
            "  Downloading httpcore-0.9.1-py3-none-any.whl (42 kB)\n",
            "\u001b[K     |████████████████████████████████| 42 kB 1.7 MB/s \n",
            "\u001b[?25hRequirement already satisfied: chardet==3.* in /usr/local/lib/python3.7/dist-packages (from httpx==0.13.3->googletrans==3.1.0a0) (3.0.4)\n",
            "Collecting sniffio\n",
            "  Downloading sniffio-1.2.0-py3-none-any.whl (10 kB)\n",
            "Requirement already satisfied: idna==2.* in /usr/local/lib/python3.7/dist-packages (from httpx==0.13.3->googletrans==3.1.0a0) (2.10)\n",
            "Collecting hstspreload\n",
            "  Downloading hstspreload-2021.12.1-py3-none-any.whl (1.3 MB)\n",
            "\u001b[K     |████████████████████████████████| 1.3 MB 45.3 MB/s \n",
            "\u001b[?25hCollecting rfc3986<2,>=1.3\n",
            "  Downloading rfc3986-1.5.0-py2.py3-none-any.whl (31 kB)\n",
            "Collecting h11<0.10,>=0.8\n",
            "  Downloading h11-0.9.0-py2.py3-none-any.whl (53 kB)\n",
            "\u001b[K     |████████████████████████████████| 53 kB 2.9 MB/s \n",
            "\u001b[?25hCollecting h2==3.*\n",
            "  Downloading h2-3.2.0-py2.py3-none-any.whl (65 kB)\n",
            "\u001b[K     |████████████████████████████████| 65 kB 4.1 MB/s \n",
            "\u001b[?25hCollecting hyperframe<6,>=5.2.0\n",
            "  Downloading hyperframe-5.2.0-py2.py3-none-any.whl (12 kB)\n",
            "Collecting hpack<4,>=3.0\n",
            "  Downloading hpack-3.0.0-py2.py3-none-any.whl (38 kB)\n",
            "Building wheels for collected packages: googletrans\n",
            "  Building wheel for googletrans (setup.py) ... \u001b[?25l\u001b[?25hdone\n",
            "  Created wheel for googletrans: filename=googletrans-3.1.0a0-py3-none-any.whl size=16367 sha256=5c47b8a6cc702b868e9778faef8b810dbe300731bff2adc09188ca43374b9d9b\n",
            "  Stored in directory: /root/.cache/pip/wheels/0c/be/fe/93a6a40ffe386e16089e44dad9018ebab9dc4cb9eb7eab65ae\n",
            "Successfully built googletrans\n",
            "Installing collected packages: hyperframe, hpack, sniffio, h2, h11, rfc3986, httpcore, hstspreload, httpx, googletrans\n",
            "Successfully installed googletrans-3.1.0a0 h11-0.9.0 h2-3.2.0 hpack-3.0.0 hstspreload-2021.12.1 httpcore-0.9.1 httpx-0.13.3 hyperframe-5.2.0 rfc3986-1.5.0 sniffio-1.2.0\n"
          ]
        }
      ],
      "source": [
        "!pip install googletrans==3.1.0a0"
      ]
    },
    {
      "cell_type": "code",
      "source": [
        "!pip install indic_transliteration -U\n",
        "!pip install git+https://github.com/indic-transliteration/indic_transliteration_py/@master -U"
      ],
      "metadata": {
        "colab": {
          "base_uri": "https://localhost:8080/"
        },
        "id": "I1SCCKydnNTb",
        "outputId": "1292135c-c706-4472-bf4d-72df93b5151e"
      },
      "execution_count": null,
      "outputs": [
        {
          "output_type": "stream",
          "name": "stdout",
          "text": [
            "Looking in indexes: https://pypi.org/simple, https://us-python.pkg.dev/colab-wheels/public/simple/\n",
            "Collecting indic_transliteration\n",
            "  Downloading indic_transliteration-2.3.31-py3-none-any.whl (133 kB)\n",
            "\u001b[K     |████████████████████████████████| 133 kB 24.0 MB/s \n",
            "\u001b[?25hRequirement already satisfied: regex in /usr/local/lib/python3.7/dist-packages (from indic_transliteration) (2022.6.2)\n",
            "Collecting toml\n",
            "  Downloading toml-0.10.2-py2.py3-none-any.whl (16 kB)\n",
            "Requirement already satisfied: typer in /usr/local/lib/python3.7/dist-packages (from indic_transliteration) (0.4.1)\n",
            "Collecting roman\n",
            "  Downloading roman-3.3-py2.py3-none-any.whl (3.9 kB)\n",
            "Collecting backports.functools-lru-cache\n",
            "  Downloading backports.functools_lru_cache-1.6.4-py2.py3-none-any.whl (5.9 kB)\n",
            "Collecting selenium\n",
            "  Downloading selenium-4.2.0-py3-none-any.whl (983 kB)\n",
            "\u001b[K     |████████████████████████████████| 983 kB 17.9 MB/s \n",
            "\u001b[?25hCollecting aksharamukha\n",
            "  Downloading aksharamukha-2.0.3-py3-none-any.whl (231 kB)\n",
            "\u001b[K     |████████████████████████████████| 231 kB 59.2 MB/s \n",
            "\u001b[?25hRequirement already satisfied: Requests>=2.20.1 in /usr/local/lib/python3.7/dist-packages (from aksharamukha->indic_transliteration) (2.23.0)\n",
            "Requirement already satisfied: langcodes>=3.1.0 in /usr/local/lib/python3.7/dist-packages (from aksharamukha->indic_transliteration) (3.3.0)\n",
            "Requirement already satisfied: lxml in /usr/local/lib/python3.7/dist-packages (from aksharamukha->indic_transliteration) (4.2.6)\n",
            "Collecting language-data\n",
            "  Downloading language_data-1.1-py3-none-any.whl (4.9 MB)\n",
            "\u001b[K     |████████████████████████████████| 4.9 MB 43.0 MB/s \n",
            "\u001b[?25hCollecting fonttools[unicode]>=4.31\n",
            "  Downloading fonttools-4.33.3-py3-none-any.whl (930 kB)\n",
            "\u001b[K     |████████████████████████████████| 930 kB 49.4 MB/s \n",
            "\u001b[?25hCollecting pyyaml>=5.4.1\n",
            "  Downloading PyYAML-6.0-cp37-cp37m-manylinux_2_5_x86_64.manylinux1_x86_64.manylinux_2_12_x86_64.manylinux2010_x86_64.whl (596 kB)\n",
            "\u001b[K     |████████████████████████████████| 596 kB 54.5 MB/s \n",
            "\u001b[?25hCollecting pykakasi>=2.0.6\n",
            "  Downloading pykakasi-2.2.1-py3-none-any.whl (2.4 MB)\n",
            "\u001b[K     |████████████████████████████████| 2.4 MB 60.2 MB/s \n",
            "\u001b[?25hCollecting unicodedata2>=14.0.0\n",
            "  Downloading unicodedata2-14.0.0-cp37-cp37m-manylinux_2_17_x86_64.manylinux2014_x86_64.whl (467 kB)\n",
            "\u001b[K     |████████████████████████████████| 467 kB 56.1 MB/s \n",
            "\u001b[?25hCollecting deprecated\n",
            "  Downloading Deprecated-1.2.13-py2.py3-none-any.whl (9.6 kB)\n",
            "Collecting jaconv\n",
            "  Downloading jaconv-0.3.tar.gz (15 kB)\n",
            "Requirement already satisfied: importlib-metadata in /usr/local/lib/python3.7/dist-packages (from pykakasi>=2.0.6->aksharamukha->indic_transliteration) (4.11.4)\n",
            "Requirement already satisfied: certifi>=2017.4.17 in /usr/local/lib/python3.7/dist-packages (from Requests>=2.20.1->aksharamukha->indic_transliteration) (2022.6.15)\n",
            "Requirement already satisfied: idna<3,>=2.5 in /usr/local/lib/python3.7/dist-packages (from Requests>=2.20.1->aksharamukha->indic_transliteration) (2.10)\n",
            "Requirement already satisfied: chardet<4,>=3.0.2 in /usr/local/lib/python3.7/dist-packages (from Requests>=2.20.1->aksharamukha->indic_transliteration) (3.0.4)\n",
            "Requirement already satisfied: urllib3!=1.25.0,!=1.25.1,<1.26,>=1.21.1 in /usr/local/lib/python3.7/dist-packages (from Requests>=2.20.1->aksharamukha->indic_transliteration) (1.24.3)\n",
            "Requirement already satisfied: wrapt<2,>=1.10 in /usr/local/lib/python3.7/dist-packages (from deprecated->pykakasi>=2.0.6->aksharamukha->indic_transliteration) (1.14.1)\n",
            "Requirement already satisfied: zipp>=0.5 in /usr/local/lib/python3.7/dist-packages (from importlib-metadata->pykakasi>=2.0.6->aksharamukha->indic_transliteration) (3.8.0)\n",
            "Requirement already satisfied: typing-extensions>=3.6.4 in /usr/local/lib/python3.7/dist-packages (from importlib-metadata->pykakasi>=2.0.6->aksharamukha->indic_transliteration) (4.1.1)\n",
            "Collecting marisa-trie<0.8.0,>=0.7.7\n",
            "  Downloading marisa_trie-0.7.7-cp37-cp37m-manylinux_2_5_x86_64.manylinux1_x86_64.manylinux_2_12_x86_64.manylinux2010_x86_64.whl (1.2 MB)\n",
            "\u001b[K     |████████████████████████████████| 1.2 MB 40.1 MB/s \n",
            "\u001b[?25hRequirement already satisfied: setuptools in /usr/local/lib/python3.7/dist-packages (from marisa-trie<0.8.0,>=0.7.7->language-data->aksharamukha->indic_transliteration) (57.4.0)\n",
            "Collecting trio-websocket~=0.9\n",
            "  Downloading trio_websocket-0.9.2-py3-none-any.whl (16 kB)\n",
            "Collecting urllib3[secure,socks]~=1.26\n",
            "  Downloading urllib3-1.26.9-py2.py3-none-any.whl (138 kB)\n",
            "\u001b[K     |████████████████████████████████| 138 kB 63.8 MB/s \n",
            "\u001b[?25hCollecting trio~=0.17\n",
            "  Downloading trio-0.21.0-py3-none-any.whl (358 kB)\n",
            "\u001b[K     |████████████████████████████████| 358 kB 61.7 MB/s \n",
            "\u001b[?25hRequirement already satisfied: attrs>=19.2.0 in /usr/local/lib/python3.7/dist-packages (from trio~=0.17->selenium->indic_transliteration) (21.4.0)\n",
            "Collecting outcome\n",
            "  Downloading outcome-1.2.0-py2.py3-none-any.whl (9.7 kB)\n",
            "Requirement already satisfied: sortedcontainers in /usr/local/lib/python3.7/dist-packages (from trio~=0.17->selenium->indic_transliteration) (2.4.0)\n",
            "Requirement already satisfied: sniffio in /usr/local/lib/python3.7/dist-packages (from trio~=0.17->selenium->indic_transliteration) (1.2.0)\n",
            "Collecting async-generator>=1.9\n",
            "  Downloading async_generator-1.10-py3-none-any.whl (18 kB)\n",
            "Collecting wsproto>=0.14\n",
            "  Downloading wsproto-1.1.0-py3-none-any.whl (24 kB)\n",
            "Collecting urllib3[secure,socks]~=1.26\n",
            "  Downloading urllib3-1.26.8-py2.py3-none-any.whl (138 kB)\n",
            "\u001b[K     |████████████████████████████████| 138 kB 62.5 MB/s \n",
            "\u001b[?25h  Downloading urllib3-1.26.7-py2.py3-none-any.whl (138 kB)\n",
            "\u001b[K     |████████████████████████████████| 138 kB 63.5 MB/s \n",
            "\u001b[?25h  Downloading urllib3-1.26.6-py2.py3-none-any.whl (138 kB)\n",
            "\u001b[K     |████████████████████████████████| 138 kB 47.8 MB/s \n",
            "\u001b[?25h  Downloading urllib3-1.26.5-py2.py3-none-any.whl (138 kB)\n",
            "\u001b[K     |████████████████████████████████| 138 kB 11.3 MB/s \n",
            "\u001b[?25h  Downloading urllib3-1.26.4-py2.py3-none-any.whl (153 kB)\n",
            "\u001b[K     |████████████████████████████████| 153 kB 48.1 MB/s \n",
            "\u001b[?25h  Downloading urllib3-1.26.3-py2.py3-none-any.whl (137 kB)\n",
            "\u001b[K     |████████████████████████████████| 137 kB 83.2 MB/s \n",
            "\u001b[?25h  Downloading urllib3-1.26.2-py2.py3-none-any.whl (136 kB)\n",
            "\u001b[K     |████████████████████████████████| 136 kB 53.9 MB/s \n",
            "\u001b[?25h  Downloading urllib3-1.26.1-py2.py3-none-any.whl (136 kB)\n",
            "\u001b[K     |████████████████████████████████| 136 kB 19.9 MB/s \n",
            "\u001b[?25h  Downloading urllib3-1.26.0-py2.py3-none-any.whl (136 kB)\n",
            "\u001b[K     |████████████████████████████████| 136 kB 47.7 MB/s \n",
            "\u001b[?25hINFO: pip is looking at multiple versions of trio-websocket to determine which version is compatible with other requirements. This could take a while.\n",
            "Collecting trio-websocket~=0.9\n",
            "  Downloading trio_websocket-0.9.1-py3-none-any.whl (16 kB)\n",
            "  Downloading trio_websocket-0.9.0-py3-none-any.whl (16 kB)\n",
            "INFO: pip is looking at multiple versions of attrs to determine which version is compatible with other requirements. This could take a while.\n",
            "Collecting attrs>=19.2.0\n",
            "  Downloading attrs-21.4.0-py2.py3-none-any.whl (60 kB)\n",
            "\u001b[K     |████████████████████████████████| 60 kB 3.9 MB/s \n",
            "\u001b[?25h  Downloading attrs-21.3.0-py2.py3-none-any.whl (61 kB)\n",
            "\u001b[K     |████████████████████████████████| 61 kB 496 kB/s \n",
            "\u001b[?25hINFO: pip is looking at multiple versions of trio-websocket to determine which version is compatible with other requirements. This could take a while.\n",
            "  Downloading attrs-21.2.0-py2.py3-none-any.whl (53 kB)\n",
            "\u001b[K     |████████████████████████████████| 53 kB 501 kB/s \n",
            "\u001b[?25h  Downloading attrs-20.3.0-py2.py3-none-any.whl (49 kB)\n",
            "\u001b[K     |████████████████████████████████| 49 kB 4.0 MB/s \n",
            "\u001b[?25hINFO: This is taking longer than usual. You might need to provide the dependency resolver with stricter constraints to reduce runtime. If you want to abort this run, you can press Ctrl + C to do so. To improve how pip performs, tell us what happened here: https://pip.pypa.io/surveys/backtracking\n",
            "  Downloading attrs-20.2.0-py2.py3-none-any.whl (48 kB)\n",
            "\u001b[K     |████████████████████████████████| 48 kB 5.7 MB/s \n",
            "\u001b[?25h  Downloading attrs-20.1.0-py2.py3-none-any.whl (49 kB)\n",
            "\u001b[K     |████████████████████████████████| 49 kB 6.7 MB/s \n",
            "\u001b[?25h  Downloading attrs-19.3.0-py2.py3-none-any.whl (39 kB)\n",
            "INFO: pip is looking at multiple versions of attrs to determine which version is compatible with other requirements. This could take a while.\n",
            "  Downloading attrs-19.2.0-py2.py3-none-any.whl (40 kB)\n",
            "\u001b[K     |████████████████████████████████| 40 kB 2.7 MB/s \n",
            "\u001b[?25hINFO: pip is looking at multiple versions of async-generator to determine which version is compatible with other requirements. This could take a while.\n",
            "Collecting async-generator>=1.9\n",
            "  Downloading async_generator-1.9-py3-none-any.whl (18 kB)\n",
            "INFO: This is taking longer than usual. You might need to provide the dependency resolver with stricter constraints to reduce runtime. If you want to abort this run, you can press Ctrl + C to do so. To improve how pip performs, tell us what happened here: https://pip.pypa.io/surveys/backtracking\n",
            "INFO: pip is looking at multiple versions of trio to determine which version is compatible with other requirements. This could take a while.\n",
            "Collecting trio~=0.17\n",
            "  Downloading trio-0.20.0-py3-none-any.whl (359 kB)\n",
            "\u001b[K     |████████████████████████████████| 359 kB 63.2 MB/s \n",
            "\u001b[?25h  Downloading trio-0.19.0-py3-none-any.whl (356 kB)\n",
            "\u001b[K     |████████████████████████████████| 356 kB 59.0 MB/s \n",
            "\u001b[?25h  Downloading trio-0.18.0-py3-none-any.whl (354 kB)\n",
            "\u001b[K     |████████████████████████████████| 354 kB 62.7 MB/s \n",
            "\u001b[?25hINFO: pip is looking at multiple versions of async-generator to determine which version is compatible with other requirements. This could take a while.\n",
            "  Downloading trio-0.17.0-py3-none-any.whl (354 kB)\n",
            "\u001b[K     |████████████████████████████████| 354 kB 59.0 MB/s \n",
            "\u001b[?25hINFO: pip is looking at multiple versions of selenium to determine which version is compatible with other requirements. This could take a while.\n",
            "Collecting selenium\n",
            "  Downloading selenium-4.1.5-py3-none-any.whl (979 kB)\n",
            "\u001b[K     |████████████████████████████████| 979 kB 52.7 MB/s \n",
            "\u001b[?25hINFO: This is taking longer than usual. You might need to provide the dependency resolver with stricter constraints to reduce runtime. If you want to abort this run, you can press Ctrl + C to do so. To improve how pip performs, tell us what happened here: https://pip.pypa.io/surveys/backtracking\n",
            "INFO: pip is looking at multiple versions of trio to determine which version is compatible with other requirements. This could take a while.\n",
            "  Downloading selenium-4.1.4-py3-none-any.whl (979 kB)\n",
            "\u001b[K     |████████████████████████████████| 979 kB 37.2 MB/s \n",
            "\u001b[?25hINFO: This is taking longer than usual. You might need to provide the dependency resolver with stricter constraints to reduce runtime. If you want to abort this run, you can press Ctrl + C to do so. To improve how pip performs, tell us what happened here: https://pip.pypa.io/surveys/backtracking\n",
            "  Downloading selenium-4.1.3-py3-none-any.whl (968 kB)\n",
            "\u001b[K     |████████████████████████████████| 968 kB 47.4 MB/s \n",
            "\u001b[?25h  Downloading selenium-4.1.2-py3-none-any.whl (963 kB)\n",
            "\u001b[K     |████████████████████████████████| 963 kB 51.9 MB/s \n",
            "\u001b[?25h  Downloading selenium-4.1.1-py3-none-any.whl (963 kB)\n",
            "\u001b[K     |████████████████████████████████| 963 kB 45.9 MB/s \n",
            "\u001b[?25h  Downloading selenium-4.1.0-py3-none-any.whl (958 kB)\n",
            "\u001b[K     |████████████████████████████████| 958 kB 39.6 MB/s \n",
            "\u001b[?25h  Downloading selenium-4.0.0-py3-none-any.whl (954 kB)\n",
            "\u001b[K     |████████████████████████████████| 954 kB 38.2 MB/s \n",
            "\u001b[?25hINFO: pip is looking at multiple versions of selenium to determine which version is compatible with other requirements. This could take a while.\n",
            "  Downloading selenium-3.141.0-py2.py3-none-any.whl (904 kB)\n",
            "\u001b[K     |████████████████████████████████| 904 kB 49.0 MB/s \n",
            "\u001b[?25hRequirement already satisfied: click<9.0.0,>=7.1.1 in /usr/local/lib/python3.7/dist-packages (from typer->indic_transliteration) (7.1.2)\n",
            "Building wheels for collected packages: jaconv\n",
            "  Building wheel for jaconv (setup.py) ... \u001b[?25l\u001b[?25hdone\n",
            "  Created wheel for jaconv: filename=jaconv-0.3-py3-none-any.whl size=15564 sha256=4a7ebe40aa786750aad8ff890a55a9b277f3e5befb206ed8ecba93a3d42beeeb\n",
            "  Stored in directory: /root/.cache/pip/wheels/8f/4f/c2/a2a3b14d0e94f855f4aa8887bf0267bee9ecfb8e62a9ee2d92\n",
            "Successfully built jaconv\n",
            "Installing collected packages: unicodedata2, marisa-trie, jaconv, fonttools, deprecated, pyyaml, pykakasi, language-data, toml, selenium, roman, backports.functools-lru-cache, aksharamukha, indic-transliteration\n",
            "  Attempting uninstall: pyyaml\n",
            "    Found existing installation: PyYAML 3.13\n",
            "    Uninstalling PyYAML-3.13:\n",
            "      Successfully uninstalled PyYAML-3.13\n",
            "Successfully installed aksharamukha-2.0.3 backports.functools-lru-cache-1.6.4 deprecated-1.2.13 fonttools-4.33.3 indic-transliteration-2.3.31 jaconv-0.3 language-data-1.1 marisa-trie-0.7.7 pykakasi-2.2.1 pyyaml-6.0 roman-3.3 selenium-3.141.0 toml-0.10.2 unicodedata2-14.0.0\n",
            "Looking in indexes: https://pypi.org/simple, https://us-python.pkg.dev/colab-wheels/public/simple/\n",
            "Collecting git+https://github.com/indic-transliteration/indic_transliteration_py/@master\n",
            "  Cloning https://github.com/indic-transliteration/indic_transliteration_py/ (to revision master) to /tmp/pip-req-build-l9z0niyz\n",
            "  Running command git clone -q https://github.com/indic-transliteration/indic_transliteration_py/ /tmp/pip-req-build-l9z0niyz\n",
            "  Running command git submodule update --init --recursive -q\n",
            "Requirement already satisfied: backports.functools_lru_cache in /usr/local/lib/python3.7/dist-packages (from indic-transliteration==2.3.31) (1.6.4)\n",
            "Requirement already satisfied: selenium in /usr/local/lib/python3.7/dist-packages (from indic-transliteration==2.3.31) (3.141.0)\n",
            "Requirement already satisfied: regex in /usr/local/lib/python3.7/dist-packages (from indic-transliteration==2.3.31) (2022.6.2)\n",
            "Requirement already satisfied: typer in /usr/local/lib/python3.7/dist-packages (from indic-transliteration==2.3.31) (0.4.1)\n",
            "Requirement already satisfied: toml in /usr/local/lib/python3.7/dist-packages (from indic-transliteration==2.3.31) (0.10.2)\n",
            "Requirement already satisfied: roman in /usr/local/lib/python3.7/dist-packages (from indic-transliteration==2.3.31) (3.3)\n",
            "Requirement already satisfied: aksharamukha in /usr/local/lib/python3.7/dist-packages (from indic-transliteration==2.3.31) (2.0.3)\n",
            "Requirement already satisfied: language-data in /usr/local/lib/python3.7/dist-packages (from aksharamukha->indic-transliteration==2.3.31) (1.1)\n",
            "Requirement already satisfied: pyyaml>=5.4.1 in /usr/local/lib/python3.7/dist-packages (from aksharamukha->indic-transliteration==2.3.31) (6.0)\n",
            "Requirement already satisfied: langcodes>=3.1.0 in /usr/local/lib/python3.7/dist-packages (from aksharamukha->indic-transliteration==2.3.31) (3.3.0)\n",
            "Requirement already satisfied: fonttools[unicode]>=4.31 in /usr/local/lib/python3.7/dist-packages (from aksharamukha->indic-transliteration==2.3.31) (4.33.3)\n",
            "Requirement already satisfied: lxml in /usr/local/lib/python3.7/dist-packages (from aksharamukha->indic-transliteration==2.3.31) (4.2.6)\n",
            "Requirement already satisfied: pykakasi>=2.0.6 in /usr/local/lib/python3.7/dist-packages (from aksharamukha->indic-transliteration==2.3.31) (2.2.1)\n",
            "Requirement already satisfied: Requests>=2.20.1 in /usr/local/lib/python3.7/dist-packages (from aksharamukha->indic-transliteration==2.3.31) (2.23.0)\n",
            "Requirement already satisfied: unicodedata2>=14.0.0 in /usr/local/lib/python3.7/dist-packages (from fonttools[unicode]>=4.31->aksharamukha->indic-transliteration==2.3.31) (14.0.0)\n",
            "Requirement already satisfied: deprecated in /usr/local/lib/python3.7/dist-packages (from pykakasi>=2.0.6->aksharamukha->indic-transliteration==2.3.31) (1.2.13)\n",
            "Requirement already satisfied: importlib-metadata in /usr/local/lib/python3.7/dist-packages (from pykakasi>=2.0.6->aksharamukha->indic-transliteration==2.3.31) (4.11.4)\n",
            "Requirement already satisfied: jaconv in /usr/local/lib/python3.7/dist-packages (from pykakasi>=2.0.6->aksharamukha->indic-transliteration==2.3.31) (0.3)\n",
            "Requirement already satisfied: idna<3,>=2.5 in /usr/local/lib/python3.7/dist-packages (from Requests>=2.20.1->aksharamukha->indic-transliteration==2.3.31) (2.10)\n",
            "Requirement already satisfied: chardet<4,>=3.0.2 in /usr/local/lib/python3.7/dist-packages (from Requests>=2.20.1->aksharamukha->indic-transliteration==2.3.31) (3.0.4)\n",
            "Requirement already satisfied: certifi>=2017.4.17 in /usr/local/lib/python3.7/dist-packages (from Requests>=2.20.1->aksharamukha->indic-transliteration==2.3.31) (2022.6.15)\n",
            "Requirement already satisfied: urllib3!=1.25.0,!=1.25.1,<1.26,>=1.21.1 in /usr/local/lib/python3.7/dist-packages (from Requests>=2.20.1->aksharamukha->indic-transliteration==2.3.31) (1.24.3)\n",
            "Requirement already satisfied: wrapt<2,>=1.10 in /usr/local/lib/python3.7/dist-packages (from deprecated->pykakasi>=2.0.6->aksharamukha->indic-transliteration==2.3.31) (1.14.1)\n",
            "Requirement already satisfied: zipp>=0.5 in /usr/local/lib/python3.7/dist-packages (from importlib-metadata->pykakasi>=2.0.6->aksharamukha->indic-transliteration==2.3.31) (3.8.0)\n",
            "Requirement already satisfied: typing-extensions>=3.6.4 in /usr/local/lib/python3.7/dist-packages (from importlib-metadata->pykakasi>=2.0.6->aksharamukha->indic-transliteration==2.3.31) (4.1.1)\n",
            "Requirement already satisfied: marisa-trie<0.8.0,>=0.7.7 in /usr/local/lib/python3.7/dist-packages (from language-data->aksharamukha->indic-transliteration==2.3.31) (0.7.7)\n",
            "Requirement already satisfied: setuptools in /usr/local/lib/python3.7/dist-packages (from marisa-trie<0.8.0,>=0.7.7->language-data->aksharamukha->indic-transliteration==2.3.31) (57.4.0)\n",
            "Requirement already satisfied: click<9.0.0,>=7.1.1 in /usr/local/lib/python3.7/dist-packages (from typer->indic-transliteration==2.3.31) (7.1.2)\n"
          ]
        }
      ]
    },
    {
      "cell_type": "code",
      "source": [
        "from google.colab import drive\n",
        "drive.mount('/content/drive')"
      ],
      "metadata": {
        "colab": {
          "base_uri": "https://localhost:8080/"
        },
        "id": "82fd7-QHBu4k",
        "outputId": "af3899fd-ff27-429f-c204-68bb0ba24376"
      },
      "execution_count": null,
      "outputs": [
        {
          "output_type": "stream",
          "name": "stdout",
          "text": [
            "Drive already mounted at /content/drive; to attempt to forcibly remount, call drive.mount(\"/content/drive\", force_remount=True).\n"
          ]
        }
      ]
    },
    {
      "cell_type": "code",
      "source": [
        "import googletrans\n",
        "\n",
        "print(googletrans.LANGUAGES)\n",
        "\n",
        "from googletrans import Translator, Transliter\n",
        "translator = Translator()\n"
      ],
      "metadata": {
        "colab": {
          "base_uri": "https://localhost:8080/"
        },
        "id": "NZkz35OmB2zQ",
        "outputId": "42ab8aaa-f423-41e1-d201-536045e5b3aa"
      },
      "execution_count": null,
      "outputs": [
        {
          "output_type": "stream",
          "name": "stdout",
          "text": [
            "{'af': 'afrikaans', 'sq': 'albanian', 'am': 'amharic', 'ar': 'arabic', 'hy': 'armenian', 'az': 'azerbaijani', 'eu': 'basque', 'be': 'belarusian', 'bn': 'bengali', 'bs': 'bosnian', 'bg': 'bulgarian', 'ca': 'catalan', 'ceb': 'cebuano', 'ny': 'chichewa', 'zh-cn': 'chinese (simplified)', 'zh-tw': 'chinese (traditional)', 'co': 'corsican', 'hr': 'croatian', 'cs': 'czech', 'da': 'danish', 'nl': 'dutch', 'en': 'english', 'eo': 'esperanto', 'et': 'estonian', 'tl': 'filipino', 'fi': 'finnish', 'fr': 'french', 'fy': 'frisian', 'gl': 'galician', 'ka': 'georgian', 'de': 'german', 'el': 'greek', 'gu': 'gujarati', 'ht': 'haitian creole', 'ha': 'hausa', 'haw': 'hawaiian', 'iw': 'hebrew', 'he': 'hebrew', 'hi': 'hindi', 'hmn': 'hmong', 'hu': 'hungarian', 'is': 'icelandic', 'ig': 'igbo', 'id': 'indonesian', 'ga': 'irish', 'it': 'italian', 'ja': 'japanese', 'jw': 'javanese', 'kn': 'kannada', 'kk': 'kazakh', 'km': 'khmer', 'ko': 'korean', 'ku': 'kurdish (kurmanji)', 'ky': 'kyrgyz', 'lo': 'lao', 'la': 'latin', 'lv': 'latvian', 'lt': 'lithuanian', 'lb': 'luxembourgish', 'mk': 'macedonian', 'mg': 'malagasy', 'ms': 'malay', 'ml': 'malayalam', 'mt': 'maltese', 'mi': 'maori', 'mr': 'marathi', 'mn': 'mongolian', 'my': 'myanmar (burmese)', 'ne': 'nepali', 'no': 'norwegian', 'or': 'odia', 'ps': 'pashto', 'fa': 'persian', 'pl': 'polish', 'pt': 'portuguese', 'pa': 'punjabi', 'ro': 'romanian', 'ru': 'russian', 'sm': 'samoan', 'gd': 'scots gaelic', 'sr': 'serbian', 'st': 'sesotho', 'sn': 'shona', 'sd': 'sindhi', 'si': 'sinhala', 'sk': 'slovak', 'sl': 'slovenian', 'so': 'somali', 'es': 'spanish', 'su': 'sundanese', 'sw': 'swahili', 'sv': 'swedish', 'tg': 'tajik', 'ta': 'tamil', 'te': 'telugu', 'th': 'thai', 'tr': 'turkish', 'uk': 'ukrainian', 'ur': 'urdu', 'ug': 'uyghur', 'uz': 'uzbek', 'vi': 'vietnamese', 'cy': 'welsh', 'xh': 'xhosa', 'yi': 'yiddish', 'yo': 'yoruba', 'zu': 'zulu'}\n"
          ]
        }
      ]
    },
    {
      "cell_type": "code",
      "source": [
        "import os\n",
        "os.chdir('/content/drive/MyDrive/IIITH/Wiki')"
      ],
      "metadata": {
        "id": "EQbDggWsB9o_"
      },
      "execution_count": null,
      "outputs": []
    },
    {
      "cell_type": "code",
      "source": [
        "import pandas as pd"
      ],
      "metadata": {
        "id": "NV1UckSACEyH"
      },
      "execution_count": null,
      "outputs": []
    },
    {
      "cell_type": "code",
      "source": [
        "#wiki_data = pd.read_excel('wikiplant_clean.xlsx')\n",
        "wiki_data1_translation = pd.read_excel('wiki_data1_translation.xlsx')"
      ],
      "metadata": {
        "id": "XdwGgZ7nCIFM"
      },
      "execution_count": null,
      "outputs": []
    },
    {
      "cell_type": "code",
      "source": [
        "def Translate(eng_text):\n",
        "  result = translator.translate(eng_text,src='en',dest='hi')\n",
        "  return result.text"
      ],
      "metadata": {
        "id": "8VV1czxuCaAl"
      },
      "execution_count": null,
      "outputs": []
    },
    {
      "cell_type": "code",
      "source": [
        "eng_text = 'Common name: Rosy Eranthemum, blue eranthemum • Gujarati: દશમૂળી dashmuli • Hindi: गुलशाम gulsham, नील वासक nil vasak • Kannada: ಕಪ್ಪುಬೊಬ್ಬುಳಿ kappubobbuli, ಕಪ್ಪುಕರ್ಣಿ kappukarni • Konkani: रान अबोली ran aboli • Marathi: दशमूली dashamuli, रान आबोली ran aboli • Tamil: நீலமுள்ளி nila-mulli • Tulu: ಕಪ್ಪುಕರ್ಣಿ kappukarni'"
      ],
      "metadata": {
        "id": "94I0rACaCaPX"
      },
      "execution_count": null,
      "outputs": []
    },
    {
      "cell_type": "code",
      "source": [
        "Translate(eng_text)"
      ],
      "metadata": {
        "colab": {
          "base_uri": "https://localhost:8080/",
          "height": 53
        },
        "id": "yOzmAL_7GCYr",
        "outputId": "e561c5e7-b503-4d59-be30-650ed129adb8"
      },
      "execution_count": null,
      "outputs": [
        {
          "output_type": "execute_result",
          "data": {
            "text/plain": [
              "'सामान्य नाम: रोज़ी एरांथेमम, ब्लू एरान्थेमम • गुजराती: દશમૂળી दशमुली • हिंदी: गुलशाम गुलशम, नील वास्क नील वासक • कन्नड़: ಕಪ್ಪುಬೊಬ್ಬುಳಿ कप्पुबोबुली, ಕಪ್ಪುಕರ್ಣಿ कप्पुकर्णी • कोंकणी: रान अबोली रन अबोली • मराठी: दशमूली दशमुली, रान आबोली अबोली भागा : ்ளி नीला-मुल्ली • तुलु: कप्पुकर्णी'"
            ],
            "application/vnd.google.colaboratory.intrinsic+json": {
              "type": "string"
            }
          },
          "metadata": {},
          "execution_count": 10
        }
      ]
    },
    {
      "cell_type": "code",
      "source": [
        "wiki_data1_translation.columns"
      ],
      "metadata": {
        "colab": {
          "base_uri": "https://localhost:8080/"
        },
        "id": "BIeVbc8WGkkO",
        "outputId": "b4699343-29bb-4a90-e398-f1dbe703ac3a"
      },
      "execution_count": null,
      "outputs": [
        {
          "output_type": "execute_result",
          "data": {
            "text/plain": [
              "Index(['PlantID', 'Name', 'parent taxon', 'basionym', 'taxon rank',\n",
              "       'instance of', 'Flowers of India ID', 'Taxon_Root', 'Taxon_Kingdom',\n",
              "       'Taxon_Phylum', 'Taxon_Class', 'Taxon_Order', 'Taxon_Family',\n",
              "       'IUCN conservation status', 'Taxon_Genus', 'Taxon_Species', 'Synonym',\n",
              "       'Brief', 'Summary', 'Diagnostic Description1', 'Plant Descr', 'Habitat',\n",
              "       'General Distribution', 'Global Distribution', 'Indian distribution',\n",
              "       'Uses', 'assessment', 'Geography', 'population', 'iucn_habit',\n",
              "       'Flower_Family', 'Flower_descr', 'wikiimage_filename', 'References',\n",
              "       'Flower_Common_names', 'Synonym_Hindi', 'Brief_Hindi', 'Summary_Hindi',\n",
              "       'Diagnostic Description1_Hindi', 'Plant Descr_Hindi', 'Habitat_Hindi',\n",
              "       'General Distribution_Hindi', 'Global Distribution_Hindi',\n",
              "       'Indian distribution_Hindi', 'Uses_Hindi', 'assessment_Hindi',\n",
              "       'Geography_Hindi', 'population_Hindi', 'iucn_habit_Hindi',\n",
              "       'Flower_Family_Hindi', 'Flower_descr_Hindi'],\n",
              "      dtype='object')"
            ]
          },
          "metadata": {},
          "execution_count": 11
        }
      ]
    },
    {
      "cell_type": "code",
      "source": [
        "#wiki_data =wiki_data.fillna(' ')"
      ],
      "metadata": {
        "id": "TkN4Q0YcfRGB"
      },
      "execution_count": null,
      "outputs": []
    },
    {
      "cell_type": "code",
      "source": [
        "wiki_data1 = wiki_data.iloc[0:1000, :]\n",
        "wiki_data2 = wiki_data.iloc[1000:2000, :]\n",
        "wiki_data3 = wiki_data.iloc[2000:, :]"
      ],
      "metadata": {
        "id": "d3CEIyLfeufY"
      },
      "execution_count": null,
      "outputs": []
    },
    {
      "cell_type": "code",
      "source": [
        "Columns = wiki_data1_translation.columns\n",
        "print(wiki_data1.shape)\n",
        "#Columns = wiki_data1_translation.columns"
      ],
      "metadata": {
        "id": "t6NWc1DYG71J",
        "colab": {
          "base_uri": "https://localhost:8080/"
        },
        "outputId": "dc3aa3be-a905-49c7-da1c-2844ac7dadb4"
      },
      "execution_count": null,
      "outputs": [
        {
          "output_type": "stream",
          "name": "stdout",
          "text": [
            "(1000, 35)\n"
          ]
        }
      ]
    },
    {
      "cell_type": "code",
      "source": [
        "for col in Columns[17:-3]:\n",
        "  print(col)\n",
        "  wiki_data1[col+'_Hindi'] = wiki_data1[col].apply(Translate)\n",
        "  wiki_data3[col+'_Hindi'] = wiki_data3[col].apply(Translate)\n",
        "  wiki_data1_translation[col+'_Hindi'] = wiki_data1_translation[col].apply(Translate)"
      ],
      "metadata": {
        "colab": {
          "base_uri": "https://localhost:8080/"
        },
        "id": "tEASsYfRG-el",
        "outputId": "ca0ac13a-9142-40a2-e997-09375a8879b1"
      },
      "execution_count": null,
      "outputs": [
        {
          "output_type": "stream",
          "name": "stdout",
          "text": [
            "Brief\n",
            "Summary\n",
            "Diagnostic Description1\n",
            "Plant Descr\n",
            "Habitat\n",
            "General Distribution\n",
            "Global Distribution\n",
            "Indian distribution\n",
            "Uses\n",
            "assessment\n",
            "Geography\n",
            "population\n",
            "iucn_habit\n",
            "Flower_Family\n",
            "Flower_descr\n",
            "wikiimage_filename\n",
            "References\n",
            "Flower_Common_names\n",
            "Synonym_Hindi\n",
            "Brief_Hindi\n",
            "Summary_Hindi\n",
            "Diagnostic Description1_Hindi\n",
            "Plant Descr_Hindi\n",
            "Habitat_Hindi\n",
            "General Distribution_Hindi\n",
            "Global Distribution_Hindi\n",
            "Indian distribution_Hindi\n",
            "Uses_Hindi\n",
            "assessment_Hindi\n",
            "Geography_Hindi\n",
            "population_Hindi\n"
          ]
        }
      ]
    },
    {
      "cell_type": "code",
      "source": [
        "wiki_data1_translation.to_excel('wiki_data1_translation_all.xlsx', index = False)"
      ],
      "metadata": {
        "id": "-B2eYi_fITT7"
      },
      "execution_count": null,
      "outputs": []
    },
    {
      "cell_type": "code",
      "source": [
        "wiki_data = pd.read_excel('wikiplant_clean.xlsx')\n",
        "wiki_data1_translation = pd.read_excel('wiki_data1_translation_all.xlsx')"
      ],
      "metadata": {
        "id": "j2FDUGZ-fJuy"
      },
      "execution_count": null,
      "outputs": []
    },
    {
      "cell_type": "code",
      "source": [
        "wiki_data2['Flower_descr_Hindi'] = wiki_data2['Flower_descr'].apply(Translate)"
      ],
      "metadata": {
        "colab": {
          "base_uri": "https://localhost:8080/"
        },
        "id": "2H_QxmeTfur5",
        "outputId": "52e398d4-562e-4969-d55f-e11b2c0d6934"
      },
      "execution_count": null,
      "outputs": [
        {
          "output_type": "stream",
          "name": "stderr",
          "text": [
            "/usr/local/lib/python3.7/dist-packages/ipykernel_launcher.py:1: SettingWithCopyWarning: \n",
            "A value is trying to be set on a copy of a slice from a DataFrame.\n",
            "Try using .loc[row_indexer,col_indexer] = value instead\n",
            "\n",
            "See the caveats in the documentation: https://pandas.pydata.org/pandas-docs/stable/user_guide/indexing.html#returning-a-view-versus-a-copy\n",
            "  \"\"\"Entry point for launching an IPython kernel.\n"
          ]
        }
      ]
    },
    {
      "cell_type": "code",
      "source": [
        "!pip install google-transliteration-api"
      ],
      "metadata": {
        "colab": {
          "base_uri": "https://localhost:8080/"
        },
        "id": "dYm53lyX2EQ9",
        "outputId": "96599179-c6db-44c6-d1aa-6ad01e8bd95b"
      },
      "execution_count": null,
      "outputs": [
        {
          "output_type": "stream",
          "name": "stdout",
          "text": [
            "Looking in indexes: https://pypi.org/simple, https://us-python.pkg.dev/colab-wheels/public/simple/\n",
            "Requirement already satisfied: google-transliteration-api in /usr/local/lib/python3.7/dist-packages (1.0.3)\n"
          ]
        }
      ]
    },
    {
      "cell_type": "code",
      "source": [
        "from google.transliteration import transliterate_word\n",
        "suggestions = transliterate_word('Dioscorea oppositifolia', lang_code='hi')\n",
        "print(suggestions)\n"
      ],
      "metadata": {
        "colab": {
          "base_uri": "https://localhost:8080/"
        },
        "id": "mbDPVLxf22l9",
        "outputId": "d5b0290b-3522-41b9-f824-2f2754f448f6"
      },
      "execution_count": null,
      "outputs": [
        {
          "output_type": "stream",
          "name": "stdout",
          "text": [
            "['डीओसकी ओप्पोसिटीफोलीअ', 'डीओसकेअ ओप्पोसिटीफोलीअ', 'डीओसकी ओप्पोसिटीफोलिअ', 'डीओसकी ओप्पोसिटीफोलिए', 'डीओसकोरी ओप्पोसिटीफोलीअ']\n"
          ]
        }
      ]
    },
    {
      "cell_type": "code",
      "source": [
        "from indic_transliteration import sanscript\n",
        "from indic_transliteration.sanscript import SchemeMap, SCHEMES, transliterate\n",
        "\n",
        "def Transliterate(eng_text):\n",
        "  if type(eng_text) == float:\n",
        "    result = eng_text\n",
        "  else:\n",
        "    result = transliterate(eng_text.lower(), sanscript.ITRANS, sanscript.DEVANAGARI)\n",
        "  return result\n",
        "\n",
        "def text_lower(eng_text):\n",
        "  if type(eng_text) == float:\n",
        "    return eng_text\n",
        "  else:\n",
        "    return eng_text.lower()"
      ],
      "metadata": {
        "id": "CFMfhDzlnedk"
      },
      "execution_count": null,
      "outputs": []
    },
    {
      "cell_type": "code",
      "source": [
        "data = 'Ipomoea asarifolia'\n",
        "print(type(data))\n",
        "Transliterate(data)\n",
        "\n"
      ],
      "metadata": {
        "colab": {
          "base_uri": "https://localhost:8080/",
          "height": 53
        },
        "id": "uE9pzLb2nk0K",
        "outputId": "5f83a9fa-d7e1-4e29-e755-c46e083c22ee"
      },
      "execution_count": null,
      "outputs": [
        {
          "output_type": "stream",
          "name": "stdout",
          "text": [
            "<class 'str'>\n"
          ]
        },
        {
          "output_type": "execute_result",
          "data": {
            "text/plain": [
              "'इपोमोएअ असरिफ़ोलिअ'"
            ],
            "application/vnd.google.colaboratory.intrinsic+json": {
              "type": "string"
            }
          },
          "metadata": {},
          "execution_count": 11
        }
      ]
    },
    {
      "cell_type": "code",
      "source": [
        "#wiki_data1_translation['Name_Hindi'] = wiki_data1_translation['Name'].apply(Transliterate)"
      ],
      "metadata": {
        "id": "kzp7q2x5oIx_"
      },
      "execution_count": null,
      "outputs": []
    },
    {
      "cell_type": "code",
      "source": [
        "trans_Columns = ['Name','parent taxon','basionym','Flowers of India ID','Taxon_Class','Taxon_Order','Taxon_Family','Taxon_Genus','Taxon_Species']\n",
        "for col in trans_Columns:\n",
        "#for transl_col in Columns[1:17]:\n",
        "  print(col)\n",
        "  wiki_data1_translation[col] = wiki_data1_translation[col].apply(text_lower)\n",
        "  wiki_data1_translation[col+'_Hindi'] = wiki_data1_translation[col].apply(Transliterate)\n",
        "  #wiki_data3[transl_col] = wiki_data3[transl_col].apply(text_lower)\n",
        "  #wiki_data3[transl_col+'_Hindi'] = wiki_data3[transl_col].apply(Transliterate)"
      ],
      "metadata": {
        "colab": {
          "base_uri": "https://localhost:8080/"
        },
        "id": "MGjLcdW7pC-l",
        "outputId": "e338c22c-7417-49af-cce1-934884f2be79"
      },
      "execution_count": null,
      "outputs": [
        {
          "output_type": "stream",
          "name": "stdout",
          "text": [
            "Name\n",
            "parent taxon\n",
            "basionym\n",
            "Flowers of India ID\n",
            "Taxon_Class\n",
            "Taxon_Order\n",
            "Taxon_Family\n",
            "Taxon_Genus\n",
            "Taxon_Species\n"
          ]
        }
      ]
    },
    {
      "cell_type": "code",
      "source": [
        "wiki_data1_translation.to_excel('wiki_data1_translation.xlsx', index = False)\n",
        "wiki_data2.to_excel('wiki_data2_translation.xlsx', index = False)\n",
        "wiki_data3.to_excel('wiki_data3_translation.xlsx', index = False)"
      ],
      "metadata": {
        "id": "Z62tbcvkrl2P"
      },
      "execution_count": null,
      "outputs": []
    },
    {
      "cell_type": "code",
      "source": [
        "wiki_data1_translation['basionym_Hindi']"
      ],
      "metadata": {
        "colab": {
          "base_uri": "https://localhost:8080/"
        },
        "id": "uBcOrCJJsmiu",
        "outputId": "4d787945-03ae-46fe-96eb-7d62d7c97ab1"
      },
      "execution_count": null,
      "outputs": [
        {
          "output_type": "execute_result",
          "data": {
            "text/plain": [
              "0                 जुस्तिचिअ रोसेअ\n",
              "1                             NaN\n",
              "2                  बोरगो ज़ेय्लनिच\n",
              "3      चोन्वोल्वुलुस् असरिफ़ोलिउस्\n",
              "4             एरिगेरोन् ओब्लिक़ूस्\n",
              "                  ...            \n",
              "995                           NaN\n",
              "996                           NaN\n",
              "997                           NaN\n",
              "998                           NaN\n",
              "999                           NaN\n",
              "Name: basionym_Hindi, Length: 1000, dtype: object"
            ]
          },
          "metadata": {},
          "execution_count": 59
        }
      ]
    }
  ]
}